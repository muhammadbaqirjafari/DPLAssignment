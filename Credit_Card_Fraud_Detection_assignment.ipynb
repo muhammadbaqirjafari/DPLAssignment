{
  "nbformat": 4,
  "nbformat_minor": 0,
  "metadata": {
    "kernelspec": {
      "display_name": "Python 3",
      "language": "python",
      "name": "python3"
    },
    "language_info": {
      "codemirror_mode": {
        "name": "ipython",
        "version": 3
      },
      "file_extension": ".py",
      "mimetype": "text/x-python",
      "name": "python",
      "nbconvert_exporter": "python",
      "pygments_lexer": "ipython3",
      "version": "3.7.3"
    },
    "colab": {
      "name": "Credit Card Fraud Detection assignment.ipynb",
      "provenance": []
    }
  },
  "cells": [
    {
      "cell_type": "markdown",
      "metadata": {
        "id": "ud8NGbov5ISx"
      },
      "source": [
        "# Credit Card Fraud Detection::"
      ]
    },
    {
      "cell_type": "markdown",
      "metadata": {
        "id": "YxkphJNJ5IS7"
      },
      "source": [
        "Download dataset from this link:\n",
        "\n",
        "https://www.kaggle.com/mlg-ulb/creditcardfraud"
      ]
    },
    {
      "cell_type": "markdown",
      "metadata": {
        "id": "6NIgAkcm5IS7"
      },
      "source": [
        "# Description about dataset::"
      ]
    },
    {
      "cell_type": "markdown",
      "metadata": {
        "id": "Ch0nrcrm5IS8"
      },
      "source": [
        "The datasets contains transactions made by credit cards in September 2013 by european cardholders.\n",
        "This dataset presents transactions that occurred in two days, where we have 492 frauds out of 284,807 transactions. The dataset is highly unbalanced, the positive class (frauds) account for 0.172% of all transactions.\n",
        "\n",
        "It contains only numerical input variables which are the result of a PCA transformation. Unfortunately, due to confidentiality issues, we cannot provide the original features and more background information about the data. Features V1, V2, … V28 are the principal components obtained with PCA, the only features which have not been transformed with PCA are 'Time' and 'Amount'. Feature 'Time' contains the seconds elapsed between each transaction and the first transaction in the dataset. The feature 'Amount' is the transaction Amount, this feature can be used for example-dependant cost-senstive learning. \n",
        "\n",
        "\n",
        "### Feature 'Class' is the response variable and it takes value 1 in case of fraud and 0 otherwise."
      ]
    },
    {
      "cell_type": "markdown",
      "metadata": {
        "id": "mjMWP6tb5IS8"
      },
      "source": [
        "# WORKFLOW :"
      ]
    },
    {
      "cell_type": "markdown",
      "metadata": {
        "id": "x57vMM6n5IS9"
      },
      "source": [
        "1.Load Data\n",
        "\n",
        "2.Check Missing Values ( If Exist ; Fill each record with mean of its feature )\n",
        "\n",
        "3.Standardized the Input Variables. \n",
        "\n",
        "4.Split into 50% Training(Samples,Labels) , 30% Test(Samples,Labels) and 20% Validation Data(Samples,Labels).\n",
        "\n",
        "5.Model : input Layer (No. of features ), 3 hidden layers including 10,8,6 unit & Output Layer with activation function relu/tanh (check by experiment).\n",
        "\n",
        "6.Compilation Step (Note : Its a Binary problem , select loss , metrics according to it)\n",
        "\n",
        "7.Train the Model with Epochs (100).\n",
        "\n",
        "8.If the model gets overfit tune your model by changing the units , No. of layers , epochs , add dropout layer or add Regularizer according to the need .\n",
        "\n",
        "9.Prediction should be > 92%\n",
        "10.Evaluation Step\n",
        "11Prediction\n"
      ]
    },
    {
      "cell_type": "markdown",
      "metadata": {
        "id": "MTJ6eiGN5IS9"
      },
      "source": [
        "# Task::"
      ]
    },
    {
      "cell_type": "markdown",
      "metadata": {
        "id": "MN3Xour25IS-"
      },
      "source": [
        "## Identify fraudulent credit card transactions."
      ]
    },
    {
      "cell_type": "markdown",
      "metadata": {
        "id": "4MpamcZb5x73"
      },
      "source": [
        "1. Load Data"
      ]
    },
    {
      "cell_type": "code",
      "metadata": {
        "colab": {
          "base_uri": "https://localhost:8080/",
          "height": 224
        },
        "id": "HpnJ-6su9vlW",
        "outputId": "84754ae4-98dc-4ee4-adbd-aeec08348c67"
      },
      "source": [
        "import pandas as pd\n",
        "import numpy as np\n",
        "\n",
        "data = pd.read_csv(\"/content/gdrive/MyDrive/kaggle/creditcardfraud/creditcard.csv\")\n",
        "# Displaying\n",
        "data.head()"
      ],
      "execution_count": 19,
      "outputs": [
        {
          "output_type": "execute_result",
          "data": {
            "text/html": [
              "<div>\n",
              "<style scoped>\n",
              "    .dataframe tbody tr th:only-of-type {\n",
              "        vertical-align: middle;\n",
              "    }\n",
              "\n",
              "    .dataframe tbody tr th {\n",
              "        vertical-align: top;\n",
              "    }\n",
              "\n",
              "    .dataframe thead th {\n",
              "        text-align: right;\n",
              "    }\n",
              "</style>\n",
              "<table border=\"1\" class=\"dataframe\">\n",
              "  <thead>\n",
              "    <tr style=\"text-align: right;\">\n",
              "      <th></th>\n",
              "      <th>Time</th>\n",
              "      <th>V1</th>\n",
              "      <th>V2</th>\n",
              "      <th>V3</th>\n",
              "      <th>V4</th>\n",
              "      <th>V5</th>\n",
              "      <th>V6</th>\n",
              "      <th>V7</th>\n",
              "      <th>V8</th>\n",
              "      <th>V9</th>\n",
              "      <th>V10</th>\n",
              "      <th>V11</th>\n",
              "      <th>V12</th>\n",
              "      <th>V13</th>\n",
              "      <th>V14</th>\n",
              "      <th>V15</th>\n",
              "      <th>V16</th>\n",
              "      <th>V17</th>\n",
              "      <th>V18</th>\n",
              "      <th>V19</th>\n",
              "      <th>V20</th>\n",
              "      <th>V21</th>\n",
              "      <th>V22</th>\n",
              "      <th>V23</th>\n",
              "      <th>V24</th>\n",
              "      <th>V25</th>\n",
              "      <th>V26</th>\n",
              "      <th>V27</th>\n",
              "      <th>V28</th>\n",
              "      <th>Amount</th>\n",
              "      <th>Class</th>\n",
              "    </tr>\n",
              "  </thead>\n",
              "  <tbody>\n",
              "    <tr>\n",
              "      <th>0</th>\n",
              "      <td>0.0</td>\n",
              "      <td>-1.359807</td>\n",
              "      <td>-0.072781</td>\n",
              "      <td>2.536347</td>\n",
              "      <td>1.378155</td>\n",
              "      <td>-0.338321</td>\n",
              "      <td>0.462388</td>\n",
              "      <td>0.239599</td>\n",
              "      <td>0.098698</td>\n",
              "      <td>0.363787</td>\n",
              "      <td>0.090794</td>\n",
              "      <td>-0.551600</td>\n",
              "      <td>-0.617801</td>\n",
              "      <td>-0.991390</td>\n",
              "      <td>-0.311169</td>\n",
              "      <td>1.468177</td>\n",
              "      <td>-0.470401</td>\n",
              "      <td>0.207971</td>\n",
              "      <td>0.025791</td>\n",
              "      <td>0.403993</td>\n",
              "      <td>0.251412</td>\n",
              "      <td>-0.018307</td>\n",
              "      <td>0.277838</td>\n",
              "      <td>-0.110474</td>\n",
              "      <td>0.066928</td>\n",
              "      <td>0.128539</td>\n",
              "      <td>-0.189115</td>\n",
              "      <td>0.133558</td>\n",
              "      <td>-0.021053</td>\n",
              "      <td>149.62</td>\n",
              "      <td>0</td>\n",
              "    </tr>\n",
              "    <tr>\n",
              "      <th>1</th>\n",
              "      <td>0.0</td>\n",
              "      <td>1.191857</td>\n",
              "      <td>0.266151</td>\n",
              "      <td>0.166480</td>\n",
              "      <td>0.448154</td>\n",
              "      <td>0.060018</td>\n",
              "      <td>-0.082361</td>\n",
              "      <td>-0.078803</td>\n",
              "      <td>0.085102</td>\n",
              "      <td>-0.255425</td>\n",
              "      <td>-0.166974</td>\n",
              "      <td>1.612727</td>\n",
              "      <td>1.065235</td>\n",
              "      <td>0.489095</td>\n",
              "      <td>-0.143772</td>\n",
              "      <td>0.635558</td>\n",
              "      <td>0.463917</td>\n",
              "      <td>-0.114805</td>\n",
              "      <td>-0.183361</td>\n",
              "      <td>-0.145783</td>\n",
              "      <td>-0.069083</td>\n",
              "      <td>-0.225775</td>\n",
              "      <td>-0.638672</td>\n",
              "      <td>0.101288</td>\n",
              "      <td>-0.339846</td>\n",
              "      <td>0.167170</td>\n",
              "      <td>0.125895</td>\n",
              "      <td>-0.008983</td>\n",
              "      <td>0.014724</td>\n",
              "      <td>2.69</td>\n",
              "      <td>0</td>\n",
              "    </tr>\n",
              "    <tr>\n",
              "      <th>2</th>\n",
              "      <td>1.0</td>\n",
              "      <td>-1.358354</td>\n",
              "      <td>-1.340163</td>\n",
              "      <td>1.773209</td>\n",
              "      <td>0.379780</td>\n",
              "      <td>-0.503198</td>\n",
              "      <td>1.800499</td>\n",
              "      <td>0.791461</td>\n",
              "      <td>0.247676</td>\n",
              "      <td>-1.514654</td>\n",
              "      <td>0.207643</td>\n",
              "      <td>0.624501</td>\n",
              "      <td>0.066084</td>\n",
              "      <td>0.717293</td>\n",
              "      <td>-0.165946</td>\n",
              "      <td>2.345865</td>\n",
              "      <td>-2.890083</td>\n",
              "      <td>1.109969</td>\n",
              "      <td>-0.121359</td>\n",
              "      <td>-2.261857</td>\n",
              "      <td>0.524980</td>\n",
              "      <td>0.247998</td>\n",
              "      <td>0.771679</td>\n",
              "      <td>0.909412</td>\n",
              "      <td>-0.689281</td>\n",
              "      <td>-0.327642</td>\n",
              "      <td>-0.139097</td>\n",
              "      <td>-0.055353</td>\n",
              "      <td>-0.059752</td>\n",
              "      <td>378.66</td>\n",
              "      <td>0</td>\n",
              "    </tr>\n",
              "    <tr>\n",
              "      <th>3</th>\n",
              "      <td>1.0</td>\n",
              "      <td>-0.966272</td>\n",
              "      <td>-0.185226</td>\n",
              "      <td>1.792993</td>\n",
              "      <td>-0.863291</td>\n",
              "      <td>-0.010309</td>\n",
              "      <td>1.247203</td>\n",
              "      <td>0.237609</td>\n",
              "      <td>0.377436</td>\n",
              "      <td>-1.387024</td>\n",
              "      <td>-0.054952</td>\n",
              "      <td>-0.226487</td>\n",
              "      <td>0.178228</td>\n",
              "      <td>0.507757</td>\n",
              "      <td>-0.287924</td>\n",
              "      <td>-0.631418</td>\n",
              "      <td>-1.059647</td>\n",
              "      <td>-0.684093</td>\n",
              "      <td>1.965775</td>\n",
              "      <td>-1.232622</td>\n",
              "      <td>-0.208038</td>\n",
              "      <td>-0.108300</td>\n",
              "      <td>0.005274</td>\n",
              "      <td>-0.190321</td>\n",
              "      <td>-1.175575</td>\n",
              "      <td>0.647376</td>\n",
              "      <td>-0.221929</td>\n",
              "      <td>0.062723</td>\n",
              "      <td>0.061458</td>\n",
              "      <td>123.50</td>\n",
              "      <td>0</td>\n",
              "    </tr>\n",
              "    <tr>\n",
              "      <th>4</th>\n",
              "      <td>2.0</td>\n",
              "      <td>-1.158233</td>\n",
              "      <td>0.877737</td>\n",
              "      <td>1.548718</td>\n",
              "      <td>0.403034</td>\n",
              "      <td>-0.407193</td>\n",
              "      <td>0.095921</td>\n",
              "      <td>0.592941</td>\n",
              "      <td>-0.270533</td>\n",
              "      <td>0.817739</td>\n",
              "      <td>0.753074</td>\n",
              "      <td>-0.822843</td>\n",
              "      <td>0.538196</td>\n",
              "      <td>1.345852</td>\n",
              "      <td>-1.119670</td>\n",
              "      <td>0.175121</td>\n",
              "      <td>-0.451449</td>\n",
              "      <td>-0.237033</td>\n",
              "      <td>-0.038195</td>\n",
              "      <td>0.803487</td>\n",
              "      <td>0.408542</td>\n",
              "      <td>-0.009431</td>\n",
              "      <td>0.798278</td>\n",
              "      <td>-0.137458</td>\n",
              "      <td>0.141267</td>\n",
              "      <td>-0.206010</td>\n",
              "      <td>0.502292</td>\n",
              "      <td>0.219422</td>\n",
              "      <td>0.215153</td>\n",
              "      <td>69.99</td>\n",
              "      <td>0</td>\n",
              "    </tr>\n",
              "  </tbody>\n",
              "</table>\n",
              "</div>"
            ],
            "text/plain": [
              "   Time        V1        V2        V3  ...       V27       V28  Amount  Class\n",
              "0   0.0 -1.359807 -0.072781  2.536347  ...  0.133558 -0.021053  149.62      0\n",
              "1   0.0  1.191857  0.266151  0.166480  ... -0.008983  0.014724    2.69      0\n",
              "2   1.0 -1.358354 -1.340163  1.773209  ... -0.055353 -0.059752  378.66      0\n",
              "3   1.0 -0.966272 -0.185226  1.792993  ...  0.062723  0.061458  123.50      0\n",
              "4   2.0 -1.158233  0.877737  1.548718  ...  0.219422  0.215153   69.99      0\n",
              "\n",
              "[5 rows x 31 columns]"
            ]
          },
          "metadata": {
            "tags": []
          },
          "execution_count": 19
        }
      ]
    },
    {
      "cell_type": "markdown",
      "metadata": {
        "id": "FXTSSeTj51Y6"
      },
      "source": [
        "2. Check Missing Values ( If Exist ; Fill each record with mean of its feature )"
      ]
    },
    {
      "cell_type": "code",
      "metadata": {
        "colab": {
          "base_uri": "https://localhost:8080/"
        },
        "id": "AmUzvXYwAwlP",
        "outputId": "dc3a8f08-7a89-4140-818a-bc88725ead8c"
      },
      "source": [
        "# Checking NaN Values\n",
        "for column in data.columns:\n",
        "  print(column, np.isnan(data[column]).sum())\n",
        "# So there is no NaN value"
      ],
      "execution_count": 31,
      "outputs": [
        {
          "output_type": "stream",
          "text": [
            "Time 0\n",
            "V1 0\n",
            "V2 0\n",
            "V3 0\n",
            "V4 0\n",
            "V5 0\n",
            "V6 0\n",
            "V7 0\n",
            "V8 0\n",
            "V9 0\n",
            "V10 0\n",
            "V11 0\n",
            "V12 0\n",
            "V13 0\n",
            "V14 0\n",
            "V15 0\n",
            "V16 0\n",
            "V17 0\n",
            "V18 0\n",
            "V19 0\n",
            "V20 0\n",
            "V21 0\n",
            "V22 0\n",
            "V23 0\n",
            "V24 0\n",
            "V25 0\n",
            "V26 0\n",
            "V27 0\n",
            "V28 0\n",
            "Amount 0\n",
            "Class 0\n"
          ],
          "name": "stdout"
        }
      ]
    },
    {
      "cell_type": "markdown",
      "metadata": {
        "id": "JMbHi2Gy5-mS"
      },
      "source": [
        "3. Standardized the Input Variables. "
      ]
    },
    {
      "cell_type": "code",
      "metadata": {
        "id": "nPgoY2665IS_"
      },
      "source": [
        "x = data.loc[:, 'V1':'V28'] # Input\n",
        "y = data['Class'] # Output"
      ],
      "execution_count": 50,
      "outputs": []
    },
    {
      "cell_type": "markdown",
      "metadata": {
        "id": "yO8hLEH16Cir"
      },
      "source": [
        "4. Split into 50% Training(Samples,Labels) , 30% Test(Samples,Labels) and 20% Validation Data(Samples,Labels)."
      ]
    },
    {
      "cell_type": "code",
      "metadata": {
        "colab": {
          "base_uri": "https://localhost:8080/"
        },
        "id": "Aa7-I_7Z5IS_",
        "outputId": "f63da9ec-31b7-4274-fc98-431c87f68b08"
      },
      "source": [
        "length = len(x)\n",
        "\n",
        "# 50% Training\n",
        "x_train = x.loc[0: length/2]\n",
        "y_train = y.loc[0: length/2]\n",
        "\n",
        "# 30% Test\n",
        "x_test = x.loc[length/2 + 1: 4/5*length]\n",
        "y_test = y.loc[length/2 +1: 4/5*length]\n",
        "\n",
        "# 20% Validation\n",
        "x_validate = x.loc[4/5*length + 1:]\n",
        "y_validate = y.loc[4/5*length + 1:]\n",
        "\n",
        "# Checking\n",
        "print(len(x_train)/length, len(x_test)/length, len(x_validate)/length)"
      ],
      "execution_count": 58,
      "outputs": [
        {
          "output_type": "stream",
          "text": [
            "0.5000017555748278 0.2999961377353787 0.19999508439048197\n"
          ],
          "name": "stdout"
        }
      ]
    },
    {
      "cell_type": "markdown",
      "metadata": {
        "id": "U0qF1ujZ6Ftc"
      },
      "source": [
        "5. Model : input Layer (No. of features ), 3 hidden layers including 10,8,6 unit & Output Layer with activation function relu/tanh (check by experiment)."
      ]
    },
    {
      "cell_type": "code",
      "metadata": {
        "id": "YRGvyZ-u5IS_"
      },
      "source": [
        "from keras import models\n",
        "from keras import layers\n",
        "\n",
        "model = models.Sequential()\n",
        "model.add(layers.Dense(28, activation='relu', input_shape=(28, ))) # Input Layer\n",
        "model.add(layers.Dense(10, activation='relu')) # Hidden Layer 1\n",
        "model.add(layers.Dense(8, activation='relu')) # Hidden Layer 2\n",
        "model.add(layers.Dense(6, activation='relu')) # Hidden Layer 3\n",
        "model.add(layers.Dense(1, activation='sigmoid')) # Output Layer"
      ],
      "execution_count": 59,
      "outputs": []
    },
    {
      "cell_type": "markdown",
      "metadata": {
        "id": "op6EBX5c6Ix_"
      },
      "source": [
        "6. Compilation Step (Note : Its a Binary problem , select loss , metrics according to it)"
      ]
    },
    {
      "cell_type": "code",
      "metadata": {
        "id": "Uo8dhd565IS_"
      },
      "source": [
        "model.compile(optimizer='rmsprop', loss='binary_crossentropy', metrics=['accuracy'])"
      ],
      "execution_count": 60,
      "outputs": []
    },
    {
      "cell_type": "markdown",
      "metadata": {
        "id": "j9q8Sx9-6LzS"
      },
      "source": [
        "7. Train the Model with Epochs (100)."
      ]
    },
    {
      "cell_type": "code",
      "metadata": {
        "colab": {
          "base_uri": "https://localhost:8080/"
        },
        "id": "yxesbV1x5ITA",
        "outputId": "ed0ccf3e-ef50-4954-d2c3-c7e61a8be90c"
      },
      "source": [
        "history = model.fit(x_train, y_train, epochs=100, batch_size=512, validation_data=(x_validate, y_validate))"
      ],
      "execution_count": 62,
      "outputs": [
        {
          "output_type": "stream",
          "text": [
            "Epoch 1/100\n",
            "279/279 [==============================] - 1s 2ms/step - loss: 0.0010 - accuracy: 0.9997 - val_loss: 0.0220 - val_accuracy: 0.9949\n",
            "Epoch 2/100\n",
            "279/279 [==============================] - 1s 2ms/step - loss: 0.0011 - accuracy: 0.9998 - val_loss: 0.0215 - val_accuracy: 0.9949\n",
            "Epoch 3/100\n",
            "279/279 [==============================] - 1s 2ms/step - loss: 0.0012 - accuracy: 0.9998 - val_loss: 0.0210 - val_accuracy: 0.9957\n",
            "Epoch 4/100\n",
            "279/279 [==============================] - 1s 2ms/step - loss: 0.0010 - accuracy: 0.9998 - val_loss: 0.0217 - val_accuracy: 0.9949\n",
            "Epoch 5/100\n",
            "279/279 [==============================] - 1s 2ms/step - loss: 0.0010 - accuracy: 0.9997 - val_loss: 0.0256 - val_accuracy: 0.9941\n",
            "Epoch 6/100\n",
            "279/279 [==============================] - 1s 2ms/step - loss: 0.0010 - accuracy: 0.9998 - val_loss: 0.0269 - val_accuracy: 0.9938\n",
            "Epoch 7/100\n",
            "279/279 [==============================] - 1s 2ms/step - loss: 9.6348e-04 - accuracy: 0.9998 - val_loss: 0.0255 - val_accuracy: 0.9948\n",
            "Epoch 8/100\n",
            "279/279 [==============================] - 1s 2ms/step - loss: 0.0011 - accuracy: 0.9998 - val_loss: 0.0274 - val_accuracy: 0.9943\n",
            "Epoch 9/100\n",
            "279/279 [==============================] - 1s 2ms/step - loss: 0.0010 - accuracy: 0.9997 - val_loss: 0.0350 - val_accuracy: 0.9928\n",
            "Epoch 10/100\n",
            "279/279 [==============================] - 1s 2ms/step - loss: 0.0010 - accuracy: 0.9998 - val_loss: 0.0288 - val_accuracy: 0.9943\n",
            "Epoch 11/100\n",
            "279/279 [==============================] - 1s 2ms/step - loss: 0.0011 - accuracy: 0.9997 - val_loss: 0.0262 - val_accuracy: 0.9949\n",
            "Epoch 12/100\n",
            "279/279 [==============================] - 1s 2ms/step - loss: 8.9216e-04 - accuracy: 0.9998 - val_loss: 0.0301 - val_accuracy: 0.9941\n",
            "Epoch 13/100\n",
            "279/279 [==============================] - 1s 2ms/step - loss: 0.0010 - accuracy: 0.9998 - val_loss: 0.0332 - val_accuracy: 0.9931\n",
            "Epoch 14/100\n",
            "279/279 [==============================] - 1s 2ms/step - loss: 0.0011 - accuracy: 0.9998 - val_loss: 0.0313 - val_accuracy: 0.9940\n",
            "Epoch 15/100\n",
            "279/279 [==============================] - 1s 2ms/step - loss: 9.6432e-04 - accuracy: 0.9998 - val_loss: 0.0348 - val_accuracy: 0.9934\n",
            "Epoch 16/100\n",
            "279/279 [==============================] - 1s 2ms/step - loss: 0.0011 - accuracy: 0.9997 - val_loss: 0.0372 - val_accuracy: 0.9915\n",
            "Epoch 17/100\n",
            "279/279 [==============================] - 1s 2ms/step - loss: 9.7527e-04 - accuracy: 0.9998 - val_loss: 0.0325 - val_accuracy: 0.9940\n",
            "Epoch 18/100\n",
            "279/279 [==============================] - 1s 2ms/step - loss: 9.5390e-04 - accuracy: 0.9998 - val_loss: 0.0334 - val_accuracy: 0.9936\n",
            "Epoch 19/100\n",
            "279/279 [==============================] - 1s 2ms/step - loss: 8.4175e-04 - accuracy: 0.9998 - val_loss: 0.0342 - val_accuracy: 0.9932\n",
            "Epoch 20/100\n",
            "279/279 [==============================] - 1s 2ms/step - loss: 0.0010 - accuracy: 0.9998 - val_loss: 0.0327 - val_accuracy: 0.9939\n",
            "Epoch 21/100\n",
            "279/279 [==============================] - 1s 2ms/step - loss: 9.5208e-04 - accuracy: 0.9998 - val_loss: 0.0386 - val_accuracy: 0.9916\n",
            "Epoch 22/100\n",
            "279/279 [==============================] - 1s 2ms/step - loss: 8.9798e-04 - accuracy: 0.9998 - val_loss: 0.0431 - val_accuracy: 0.9915\n",
            "Epoch 23/100\n",
            "279/279 [==============================] - 1s 2ms/step - loss: 9.2473e-04 - accuracy: 0.9998 - val_loss: 0.0531 - val_accuracy: 0.9871\n",
            "Epoch 24/100\n",
            "279/279 [==============================] - 1s 2ms/step - loss: 8.6929e-04 - accuracy: 0.9998 - val_loss: 0.0549 - val_accuracy: 0.9875\n",
            "Epoch 25/100\n",
            "279/279 [==============================] - 1s 2ms/step - loss: 8.1658e-04 - accuracy: 0.9998 - val_loss: 0.0436 - val_accuracy: 0.9909\n",
            "Epoch 26/100\n",
            "279/279 [==============================] - 1s 2ms/step - loss: 9.2409e-04 - accuracy: 0.9998 - val_loss: 0.0547 - val_accuracy: 0.9857\n",
            "Epoch 27/100\n",
            "279/279 [==============================] - 1s 2ms/step - loss: 0.0010 - accuracy: 0.9998 - val_loss: 0.0697 - val_accuracy: 0.9794\n",
            "Epoch 28/100\n",
            "279/279 [==============================] - 1s 2ms/step - loss: 9.2110e-04 - accuracy: 0.9998 - val_loss: 0.0604 - val_accuracy: 0.9848\n",
            "Epoch 29/100\n",
            "279/279 [==============================] - 1s 2ms/step - loss: 8.6047e-04 - accuracy: 0.9998 - val_loss: 0.0489 - val_accuracy: 0.9912\n",
            "Epoch 30/100\n",
            "279/279 [==============================] - 1s 2ms/step - loss: 7.6921e-04 - accuracy: 0.9998 - val_loss: 0.0616 - val_accuracy: 0.9854\n",
            "Epoch 31/100\n",
            "279/279 [==============================] - 1s 2ms/step - loss: 8.9910e-04 - accuracy: 0.9998 - val_loss: 0.0598 - val_accuracy: 0.9867\n",
            "Epoch 32/100\n",
            "279/279 [==============================] - 1s 2ms/step - loss: 8.7103e-04 - accuracy: 0.9998 - val_loss: 0.0595 - val_accuracy: 0.9839\n",
            "Epoch 33/100\n",
            "279/279 [==============================] - 1s 2ms/step - loss: 8.5914e-04 - accuracy: 0.9998 - val_loss: 0.0910 - val_accuracy: 0.9767\n",
            "Epoch 34/100\n",
            "279/279 [==============================] - 1s 2ms/step - loss: 7.8780e-04 - accuracy: 0.9998 - val_loss: 0.0740 - val_accuracy: 0.9780\n",
            "Epoch 35/100\n",
            "279/279 [==============================] - 1s 2ms/step - loss: 8.7490e-04 - accuracy: 0.9998 - val_loss: 0.0564 - val_accuracy: 0.9885\n",
            "Epoch 36/100\n",
            "279/279 [==============================] - 1s 2ms/step - loss: 8.7947e-04 - accuracy: 0.9998 - val_loss: 0.0962 - val_accuracy: 0.9718\n",
            "Epoch 37/100\n",
            "279/279 [==============================] - 1s 2ms/step - loss: 7.8717e-04 - accuracy: 0.9998 - val_loss: 0.0920 - val_accuracy: 0.9721\n",
            "Epoch 38/100\n",
            "279/279 [==============================] - 1s 2ms/step - loss: 8.2130e-04 - accuracy: 0.9998 - val_loss: 0.0834 - val_accuracy: 0.9765\n",
            "Epoch 39/100\n",
            "279/279 [==============================] - 1s 2ms/step - loss: 8.2409e-04 - accuracy: 0.9998 - val_loss: 0.0817 - val_accuracy: 0.9754\n",
            "Epoch 40/100\n",
            "279/279 [==============================] - 1s 2ms/step - loss: 6.8421e-04 - accuracy: 0.9998 - val_loss: 0.1236 - val_accuracy: 0.9633\n",
            "Epoch 41/100\n",
            "279/279 [==============================] - 1s 2ms/step - loss: 8.9300e-04 - accuracy: 0.9998 - val_loss: 0.0866 - val_accuracy: 0.9738\n",
            "Epoch 42/100\n",
            "279/279 [==============================] - 1s 2ms/step - loss: 8.3946e-04 - accuracy: 0.9998 - val_loss: 0.1206 - val_accuracy: 0.9639\n",
            "Epoch 43/100\n",
            "279/279 [==============================] - 1s 2ms/step - loss: 8.1637e-04 - accuracy: 0.9998 - val_loss: 0.0993 - val_accuracy: 0.9721\n",
            "Epoch 44/100\n",
            "279/279 [==============================] - 1s 2ms/step - loss: 8.5961e-04 - accuracy: 0.9998 - val_loss: 0.1056 - val_accuracy: 0.9705\n",
            "Epoch 45/100\n",
            "279/279 [==============================] - 1s 2ms/step - loss: 7.9937e-04 - accuracy: 0.9998 - val_loss: 0.1382 - val_accuracy: 0.9595\n",
            "Epoch 46/100\n",
            "279/279 [==============================] - 1s 2ms/step - loss: 8.2852e-04 - accuracy: 0.9998 - val_loss: 0.1248 - val_accuracy: 0.9634\n",
            "Epoch 47/100\n",
            "279/279 [==============================] - 1s 2ms/step - loss: 8.9577e-04 - accuracy: 0.9998 - val_loss: 0.1391 - val_accuracy: 0.9590\n",
            "Epoch 48/100\n",
            "279/279 [==============================] - 1s 2ms/step - loss: 8.0105e-04 - accuracy: 0.9998 - val_loss: 0.1053 - val_accuracy: 0.9707\n",
            "Epoch 49/100\n",
            "279/279 [==============================] - 1s 2ms/step - loss: 8.1034e-04 - accuracy: 0.9998 - val_loss: 0.1405 - val_accuracy: 0.9582\n",
            "Epoch 50/100\n",
            "279/279 [==============================] - 1s 2ms/step - loss: 7.6107e-04 - accuracy: 0.9998 - val_loss: 0.0937 - val_accuracy: 0.9736\n",
            "Epoch 51/100\n",
            "279/279 [==============================] - 1s 2ms/step - loss: 0.0010 - accuracy: 0.9998 - val_loss: 0.1201 - val_accuracy: 0.9657\n",
            "Epoch 52/100\n",
            "279/279 [==============================] - 1s 2ms/step - loss: 6.8536e-04 - accuracy: 0.9998 - val_loss: 0.1306 - val_accuracy: 0.9621\n",
            "Epoch 53/100\n",
            "279/279 [==============================] - 1s 2ms/step - loss: 8.5078e-04 - accuracy: 0.9998 - val_loss: 0.1699 - val_accuracy: 0.9518\n",
            "Epoch 54/100\n",
            "279/279 [==============================] - 1s 2ms/step - loss: 7.0288e-04 - accuracy: 0.9998 - val_loss: 0.1507 - val_accuracy: 0.9591\n",
            "Epoch 55/100\n",
            "279/279 [==============================] - 1s 2ms/step - loss: 8.3561e-04 - accuracy: 0.9998 - val_loss: 0.1756 - val_accuracy: 0.9521\n",
            "Epoch 56/100\n",
            "279/279 [==============================] - 1s 2ms/step - loss: 8.0807e-04 - accuracy: 0.9998 - val_loss: 0.1577 - val_accuracy: 0.9564\n",
            "Epoch 57/100\n",
            "279/279 [==============================] - 1s 2ms/step - loss: 8.5355e-04 - accuracy: 0.9997 - val_loss: 0.1702 - val_accuracy: 0.9567\n",
            "Epoch 58/100\n",
            "279/279 [==============================] - 1s 2ms/step - loss: 7.5292e-04 - accuracy: 0.9998 - val_loss: 0.1777 - val_accuracy: 0.9512\n",
            "Epoch 59/100\n",
            "279/279 [==============================] - 1s 2ms/step - loss: 6.3664e-04 - accuracy: 0.9998 - val_loss: 0.1302 - val_accuracy: 0.9669\n",
            "Epoch 60/100\n",
            "279/279 [==============================] - 1s 2ms/step - loss: 7.7375e-04 - accuracy: 0.9998 - val_loss: 0.1486 - val_accuracy: 0.9595\n",
            "Epoch 61/100\n",
            "279/279 [==============================] - 1s 2ms/step - loss: 7.8979e-04 - accuracy: 0.9998 - val_loss: 0.1987 - val_accuracy: 0.9454\n",
            "Epoch 62/100\n",
            "279/279 [==============================] - 1s 2ms/step - loss: 7.3343e-04 - accuracy: 0.9998 - val_loss: 0.1380 - val_accuracy: 0.9589\n",
            "Epoch 63/100\n",
            "279/279 [==============================] - 1s 2ms/step - loss: 8.4199e-04 - accuracy: 0.9998 - val_loss: 0.1651 - val_accuracy: 0.9560\n",
            "Epoch 64/100\n",
            "279/279 [==============================] - 1s 2ms/step - loss: 8.2192e-04 - accuracy: 0.9998 - val_loss: 0.1700 - val_accuracy: 0.9508\n",
            "Epoch 65/100\n",
            "279/279 [==============================] - 1s 2ms/step - loss: 7.1398e-04 - accuracy: 0.9998 - val_loss: 0.1594 - val_accuracy: 0.9557\n",
            "Epoch 66/100\n",
            "279/279 [==============================] - 1s 2ms/step - loss: 7.6571e-04 - accuracy: 0.9998 - val_loss: 0.1659 - val_accuracy: 0.9576\n",
            "Epoch 67/100\n",
            "279/279 [==============================] - 1s 2ms/step - loss: 8.8182e-04 - accuracy: 0.9998 - val_loss: 0.1605 - val_accuracy: 0.9575\n",
            "Epoch 68/100\n",
            "279/279 [==============================] - 1s 2ms/step - loss: 7.0879e-04 - accuracy: 0.9998 - val_loss: 0.1916 - val_accuracy: 0.9452\n",
            "Epoch 69/100\n",
            "279/279 [==============================] - 1s 2ms/step - loss: 8.2954e-04 - accuracy: 0.9998 - val_loss: 0.1275 - val_accuracy: 0.9647\n",
            "Epoch 70/100\n",
            "279/279 [==============================] - 1s 2ms/step - loss: 7.9757e-04 - accuracy: 0.9998 - val_loss: 0.1631 - val_accuracy: 0.9525\n",
            "Epoch 71/100\n",
            "279/279 [==============================] - 1s 2ms/step - loss: 7.1313e-04 - accuracy: 0.9998 - val_loss: 0.1685 - val_accuracy: 0.9519\n",
            "Epoch 72/100\n",
            "279/279 [==============================] - 1s 2ms/step - loss: 7.5984e-04 - accuracy: 0.9998 - val_loss: 0.1258 - val_accuracy: 0.9655\n",
            "Epoch 73/100\n",
            "279/279 [==============================] - 1s 2ms/step - loss: 7.4383e-04 - accuracy: 0.9998 - val_loss: 0.1324 - val_accuracy: 0.9635\n",
            "Epoch 74/100\n",
            "279/279 [==============================] - 1s 2ms/step - loss: 7.5121e-04 - accuracy: 0.9998 - val_loss: 0.1620 - val_accuracy: 0.9561\n",
            "Epoch 75/100\n",
            "279/279 [==============================] - 1s 2ms/step - loss: 7.2461e-04 - accuracy: 0.9998 - val_loss: 0.1799 - val_accuracy: 0.9507\n",
            "Epoch 76/100\n",
            "279/279 [==============================] - 1s 2ms/step - loss: 7.3286e-04 - accuracy: 0.9998 - val_loss: 0.1705 - val_accuracy: 0.9533\n",
            "Epoch 77/100\n",
            "279/279 [==============================] - 1s 2ms/step - loss: 8.7898e-04 - accuracy: 0.9997 - val_loss: 0.2233 - val_accuracy: 0.9426\n",
            "Epoch 78/100\n",
            "279/279 [==============================] - 1s 2ms/step - loss: 6.9965e-04 - accuracy: 0.9998 - val_loss: 0.1605 - val_accuracy: 0.9597\n",
            "Epoch 79/100\n",
            "279/279 [==============================] - 1s 2ms/step - loss: 7.0367e-04 - accuracy: 0.9998 - val_loss: 0.1945 - val_accuracy: 0.9525\n",
            "Epoch 80/100\n",
            "279/279 [==============================] - 1s 2ms/step - loss: 6.6840e-04 - accuracy: 0.9998 - val_loss: 0.2171 - val_accuracy: 0.9476\n",
            "Epoch 81/100\n",
            "279/279 [==============================] - 1s 2ms/step - loss: 7.2849e-04 - accuracy: 0.9998 - val_loss: 0.2807 - val_accuracy: 0.9340\n",
            "Epoch 82/100\n",
            "279/279 [==============================] - 1s 2ms/step - loss: 6.5834e-04 - accuracy: 0.9998 - val_loss: 0.2203 - val_accuracy: 0.9466\n",
            "Epoch 83/100\n",
            "279/279 [==============================] - 1s 2ms/step - loss: 7.1537e-04 - accuracy: 0.9998 - val_loss: 0.2240 - val_accuracy: 0.9470\n",
            "Epoch 84/100\n",
            "279/279 [==============================] - 1s 2ms/step - loss: 5.7023e-04 - accuracy: 0.9998 - val_loss: 0.2029 - val_accuracy: 0.9500\n",
            "Epoch 85/100\n",
            "279/279 [==============================] - 1s 2ms/step - loss: 8.1535e-04 - accuracy: 0.9998 - val_loss: 0.2150 - val_accuracy: 0.9483\n",
            "Epoch 86/100\n",
            "279/279 [==============================] - 1s 2ms/step - loss: 5.5315e-04 - accuracy: 0.9999 - val_loss: 0.1983 - val_accuracy: 0.9530\n",
            "Epoch 87/100\n",
            "279/279 [==============================] - 1s 2ms/step - loss: 7.7670e-04 - accuracy: 0.9998 - val_loss: 0.2158 - val_accuracy: 0.9490\n",
            "Epoch 88/100\n",
            "279/279 [==============================] - 1s 2ms/step - loss: 0.0010 - accuracy: 0.9998 - val_loss: 0.1856 - val_accuracy: 0.9542\n",
            "Epoch 89/100\n",
            "279/279 [==============================] - 1s 2ms/step - loss: 5.9635e-04 - accuracy: 0.9999 - val_loss: 0.2006 - val_accuracy: 0.9550\n",
            "Epoch 90/100\n",
            "279/279 [==============================] - 1s 2ms/step - loss: 6.3534e-04 - accuracy: 0.9998 - val_loss: 0.2445 - val_accuracy: 0.9465\n",
            "Epoch 91/100\n",
            "279/279 [==============================] - 1s 2ms/step - loss: 6.0508e-04 - accuracy: 0.9998 - val_loss: 0.2242 - val_accuracy: 0.9503\n",
            "Epoch 92/100\n",
            "279/279 [==============================] - 1s 2ms/step - loss: 7.5695e-04 - accuracy: 0.9998 - val_loss: 0.2631 - val_accuracy: 0.9415\n",
            "Epoch 93/100\n",
            "279/279 [==============================] - 1s 2ms/step - loss: 6.4446e-04 - accuracy: 0.9998 - val_loss: 0.1898 - val_accuracy: 0.9546\n",
            "Epoch 94/100\n",
            "279/279 [==============================] - 1s 2ms/step - loss: 5.8998e-04 - accuracy: 0.9998 - val_loss: 0.2627 - val_accuracy: 0.9449\n",
            "Epoch 95/100\n",
            "279/279 [==============================] - 1s 2ms/step - loss: 7.3037e-04 - accuracy: 0.9998 - val_loss: 0.2045 - val_accuracy: 0.9534\n",
            "Epoch 96/100\n",
            "279/279 [==============================] - 1s 2ms/step - loss: 6.4903e-04 - accuracy: 0.9998 - val_loss: 0.2028 - val_accuracy: 0.9570\n",
            "Epoch 97/100\n",
            "279/279 [==============================] - 1s 2ms/step - loss: 6.6161e-04 - accuracy: 0.9998 - val_loss: 0.2523 - val_accuracy: 0.9478\n",
            "Epoch 98/100\n",
            "279/279 [==============================] - 1s 2ms/step - loss: 7.8557e-04 - accuracy: 0.9999 - val_loss: 0.2420 - val_accuracy: 0.9494\n",
            "Epoch 99/100\n",
            "279/279 [==============================] - 1s 2ms/step - loss: 7.6311e-04 - accuracy: 0.9998 - val_loss: 0.2234 - val_accuracy: 0.9521\n",
            "Epoch 100/100\n",
            "279/279 [==============================] - 1s 2ms/step - loss: 7.3916e-04 - accuracy: 0.9998 - val_loss: 0.2151 - val_accuracy: 0.9547\n"
          ],
          "name": "stdout"
        }
      ]
    },
    {
      "cell_type": "markdown",
      "metadata": {
        "id": "cfdGxnoK6PNj"
      },
      "source": [
        "8. If the model gets overfit tune your model by changing the units , No. of layers , epochs , add dropout layer or add Regularizer according to the need ."
      ]
    },
    {
      "cell_type": "code",
      "metadata": {
        "colab": {
          "base_uri": "https://localhost:8080/",
          "height": 295
        },
        "id": "x7jOjL_i5ITA",
        "outputId": "d80a5a9f-420a-4261-8592-240ce08f8bc4"
      },
      "source": [
        "import matplotlib.pyplot as plt\n",
        "\n",
        "history_dict = history.history\n",
        "loss_values = history_dict['loss']\n",
        "val_loss_values = history_dict['val_loss']\n",
        "\n",
        "epochs = range(1, len(loss_values) + 1)\n",
        "\n",
        "plt.plot(epochs, loss_values, 'bo', label='Training loss') # bo is for blue dot\n",
        "plt.plot(epochs, val_loss_values, 'b', label='Validation loss') # b is for solid blue line\n",
        "plt.title('Training and Validation loss')\n",
        "plt.xlabel('Epochs')\n",
        "plt.ylabel('Loss')\n",
        "plt.legend()\n",
        "\n",
        "plt.show()"
      ],
      "execution_count": 63,
      "outputs": [
        {
          "output_type": "display_data",
          "data": {
            "image/png": "[encoded data removed]",
            "text/plain": [
              "<Figure size 432x288 with 1 Axes>"
            ]
          },
          "metadata": {
            "tags": [],
            "needs_background": "light"
          }
        }
      ]
    },
    {
      "cell_type": "code",
      "metadata": {
        "colab": {
          "base_uri": "https://localhost:8080/"
        },
        "id": "kScinE0KPLVJ",
        "outputId": "34e2bd08-5bef-45e2-8ef2-f79685808820"
      },
      "source": [
        "# Changing the layers\n",
        "model = models.Sequential()\n",
        "model.add(layers.Dense(16, activation='relu', input_shape=(28, ))) # Input Layer\n",
        "model.add(layers.Dense(8, activation='relu')) # Hidden Layer 3\n",
        "model.add(layers.Dense(1, activation='sigmoid')) # Output Layer\n",
        "# Complilatin\n",
        "model.compile(optimizer='rmsprop', loss='binary_crossentropy', metrics=['accuracy'])\n",
        "# Epochs 4(after experiment)\n",
        "history = model.fit(x_train, y_train, epochs=4, batch_size=512, validation_data=(x_validate, y_validate))"
      ],
      "execution_count": 68,
      "outputs": [
        {
          "output_type": "stream",
          "text": [
            "Epoch 1/4\n",
            "279/279 [==============================] - 1s 2ms/step - loss: 0.2308 - accuracy: 0.9799 - val_loss: 0.0139 - val_accuracy: 0.9987\n",
            "Epoch 2/4\n",
            "279/279 [==============================] - 0s 2ms/step - loss: 0.0062 - accuracy: 0.9982 - val_loss: 0.0088 - val_accuracy: 0.9987\n",
            "Epoch 3/4\n",
            "279/279 [==============================] - 0s 2ms/step - loss: 0.0039 - accuracy: 0.9983 - val_loss: 0.0081 - val_accuracy: 0.9995\n",
            "Epoch 4/4\n",
            "279/279 [==============================] - 0s 2ms/step - loss: 0.0035 - accuracy: 0.9992 - val_loss: 0.0068 - val_accuracy: 0.9995\n"
          ],
          "name": "stdout"
        }
      ]
    },
    {
      "cell_type": "markdown",
      "metadata": {
        "id": "uBAeL0EL6S4z"
      },
      "source": [
        "9. Prediction should be > 92%"
      ]
    },
    {
      "cell_type": "markdown",
      "metadata": {
        "id": "PI13lNyU6WSd"
      },
      "source": [
        "10. Evaluation Step"
      ]
    },
    {
      "cell_type": "code",
      "metadata": {
        "colab": {
          "base_uri": "https://localhost:8080/"
        },
        "id": "AojovKdz5ITA",
        "outputId": "41610452-7f38-4a80-b7c8-019fcd7cbe82"
      },
      "source": [
        "model.evaluate(x_test, y_test) # 99% Accuracy"
      ],
      "execution_count": 71,
      "outputs": [
        {
          "output_type": "stream",
          "text": [
            "2671/2671 [==============================] - 2s 840us/step - loss: 0.0071 - accuracy: 0.9994\n"
          ],
          "name": "stdout"
        },
        {
          "output_type": "execute_result",
          "data": {
            "text/plain": [
              "[0.007110022474080324, 0.9994148015975952]"
            ]
          },
          "metadata": {
            "tags": []
          },
          "execution_count": 71
        }
      ]
    }
  ]
}